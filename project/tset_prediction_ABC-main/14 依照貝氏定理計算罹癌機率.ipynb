{
 "cells": [
  {
   "cell_type": "code",
   "execution_count": 1,
   "id": "1de41568",
   "metadata": {},
   "outputs": [
    {
     "name": "stdout",
     "output_type": "stream",
     "text": [
      "患病的後驗機率為: 0.18029739776951673\n"
     ]
    }
   ],
   "source": [
    "def bayes_theorem(p_a, p_b_given_a, p_b_given_not_a):\n",
    "    # 計算檢測結果呈陽性的概率\n",
    "    #貝斯定理\n",
    "    p_b = (p_b_given_a * p_a) + (p_b_given_not_a * (1 - p_a))\n",
    "    \n",
    "    # 計算後驗機率\n",
    "    p_a_given_b = (p_b_given_a * p_a) / p_b\n",
    "    \n",
    "    return p_a_given_b\n",
    "\n",
    "# 這裡需要提供具體的數據\n",
    "# 例如，先驗機率 P(A)、在有癌症的情況下檢測為陽性的條件概率 P(B|A)->p_b_given_a\n",
    "# 在沒有癌症的情況下檢測為陽性的條件概率 P(B|¬A)-> p_b_given_not_a \n",
    "p_a = 0.02  # 先驗機率(代表國家多少人羅癌的比例)\n",
    "p_b_given_a = 0.97  # 在有癌症的情況下檢測為陽性的條件概率\n",
    "p_b_given_not_a = 0.09  # 在沒有癌症的情況下檢測為陽性的條件概率\n",
    "\n",
    "result = bayes_theorem(p_a, p_b_given_a, p_b_given_not_a)\n",
    "print(f\"患病的後驗機率為: {result}\")\n"
   ]
  },
  {
   "cell_type": "markdown",
   "id": "9281a9d3",
   "metadata": {},
   "source": [
    "0.02 * (0.97/0.09) "
   ]
  },
  {
   "cell_type": "code",
   "execution_count": 26,
   "id": "82c03ddb",
   "metadata": {},
   "outputs": [
    {
     "data": {
      "text/plain": [
       "0.18029739776951673"
      ]
     },
     "execution_count": 26,
     "metadata": {},
     "output_type": "execute_result"
    }
   ],
   "source": [
    "0.97 * 0.02  / ((0.97 * 0.02) + (0.09 * 0.98))"
   ]
  },
  {
   "cell_type": "markdown",
   "id": "51477b55",
   "metadata": {},
   "source": [
    "全國有2%的人有罹癌 * 97%真實是陽性的 / (兩種機率的總和(0.97 * 0.02 + 0.09 *0.98)) \n",
    "其中的0.97 * 0.02 是有癌症檢測陽性的機率，0.09 * 0.98是無癌症檢測陽性的機率\n",
    "算出來剛好是0.18029739 = 18%"
   ]
  },
  {
   "cell_type": "code",
   "execution_count": null,
   "id": "5a11e13e",
   "metadata": {},
   "outputs": [],
   "source": []
  }
 ],
 "metadata": {
  "kernelspec": {
   "display_name": "Python 3 (ipykernel)",
   "language": "python",
   "name": "python3"
  },
  "language_info": {
   "codemirror_mode": {
    "name": "ipython",
    "version": 3
   },
   "file_extension": ".py",
   "mimetype": "text/x-python",
   "name": "python",
   "nbconvert_exporter": "python",
   "pygments_lexer": "ipython3",
   "version": "3.11.3"
  }
 },
 "nbformat": 4,
 "nbformat_minor": 5
}
